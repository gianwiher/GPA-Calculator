{
 "cells": [
  {
   "cell_type": "markdown",
   "metadata": {},
   "source": [
    "## Script to calculate average grade\n",
    "\n",
    "### Enter the path to your `.html` file here"
   ]
  },
  {
   "cell_type": "code",
   "execution_count": 1,
   "metadata": {},
   "outputs": [],
   "source": [
    "path = './grades_ger.html'"
   ]
  },
  {
   "cell_type": "markdown",
   "metadata": {},
   "source": [
    "### Run the cells below\n"
   ]
  },
  {
   "cell_type": "code",
   "execution_count": 2,
   "metadata": {},
   "outputs": [],
   "source": [
    "import pandas as pd\n",
    "import matplotlib as plt"
   ]
  },
  {
   "cell_type": "code",
   "execution_count": 3,
   "metadata": {},
   "outputs": [
    {
     "name": "stdout",
     "output_type": "stream",
     "text": [
      "Index error, changing index from 4 to 3\n"
     ]
    }
   ],
   "source": [
    "with open(path, 'r') as file:\n",
    "    table = pd.read_html(file)\n",
    "try:\n",
    "    grades = table[4] \n",
    "except IndexError:\n",
    "    print('Index error, changing index from 4 to 3')\n",
    "    grades = table[3]\n",
    "\n",
    "\n",
    "grades.columns = grades.columns.droplevel(1)\n",
    "grades.columns = ['id', 'course', 'sess', 'grade', 'category', 'weight', 'soll', 'miss']\n",
    "\n",
    "mask = pd.isna(grades['category']) #only select rows containing course data\n",
    "grades.drop(columns=['soll', 'miss', 'category'], inplace=True)\n",
    "grades = grades[mask]\n",
    "\n",
    "mask2 = (grades['grade'] == 'pass') | (grades['grade'] == 'Best')\n",
    "grades = grades[~mask2]\n",
    "\n",
    "#cange datatype\n",
    "grades['grade'] = grades['grade'].astype('float')\n",
    "grades['sess'] = grades['sess'].astype('category')\n",
    "\n",
    "#make copy as backup \n",
    "cgrades = grades.copy()"
   ]
  },
  {
   "cell_type": "markdown",
   "metadata": {},
   "source": [
    "### Add another potential grade \n",
    "Adjust `grade`, `name` and `weight` accordingly. This cell can be run multiple times to add more than one grade. Courses with `weight` equal to zero will be ignored."
   ]
  },
  {
   "cell_type": "code",
   "execution_count": 4,
   "metadata": {},
   "outputs": [],
   "source": [
    "#add potential grade/thesis whatever\n",
    "grade = 5.5\n",
    "name = 'master thesis'\n",
    "weight = 0\n",
    "if weight != 0:\n",
    "    new_grade = pd.Series({'id': 'placeholder', 'course': name, 'sess': 'egal', 'grade': grade, 'weight': weight})\n",
    "    grades = grades.append(new_grade, ignore_index=True)"
   ]
  },
  {
   "cell_type": "markdown",
   "metadata": {},
   "source": [
    "If you have to reset you grades, uncomment the line below and run the cell. You can also manualy modify the dataframe to fit your purpose at any time in the script!"
   ]
  },
  {
   "cell_type": "code",
   "execution_count": 5,
   "metadata": {},
   "outputs": [],
   "source": [
    "#reset your grades if you made a mistake\n",
    "#grades = cgrades.copy()"
   ]
  },
  {
   "cell_type": "markdown",
   "metadata": {},
   "source": [
    "### List of your grades\n",
    "The grades below will be used to calculate average"
   ]
  },
  {
   "cell_type": "code",
   "execution_count": 6,
   "metadata": {},
   "outputs": [
    {
     "data": {
      "text/html": [
       "<div>\n",
       "<style scoped>\n",
       "    .dataframe tbody tr th:only-of-type {\n",
       "        vertical-align: middle;\n",
       "    }\n",
       "\n",
       "    .dataframe tbody tr th {\n",
       "        vertical-align: top;\n",
       "    }\n",
       "\n",
       "    .dataframe thead th {\n",
       "        text-align: right;\n",
       "    }\n",
       "</style>\n",
       "<table border=\"1\" class=\"dataframe\">\n",
       "  <thead>\n",
       "    <tr style=\"text-align: right;\">\n",
       "      <th></th>\n",
       "      <th>id</th>\n",
       "      <th>course</th>\n",
       "      <th>sess</th>\n",
       "      <th>grade</th>\n",
       "      <th>weight</th>\n",
       "    </tr>\n",
       "  </thead>\n",
       "  <tbody>\n",
       "    <tr>\n",
       "      <td>5</td>\n",
       "      <td>227-0434-10 S</td>\n",
       "      <td>Mathematics of Information</td>\n",
       "      <td>S19</td>\n",
       "      <td>5.50</td>\n",
       "      <td>8</td>\n",
       "    </tr>\n",
       "    <tr>\n",
       "      <td>6</td>\n",
       "      <td>227-0423-00 S</td>\n",
       "      <td>Neural Network Theory</td>\n",
       "      <td>S20</td>\n",
       "      <td>6.00</td>\n",
       "      <td>4</td>\n",
       "    </tr>\n",
       "    <tr>\n",
       "      <td>8</td>\n",
       "      <td>401-3621-00 S</td>\n",
       "      <td>Fundamentals of Mathematical Statistics</td>\n",
       "      <td>W19</td>\n",
       "      <td>5.75</td>\n",
       "      <td>10</td>\n",
       "    </tr>\n",
       "    <tr>\n",
       "      <td>10</td>\n",
       "      <td>263-3010-00 S</td>\n",
       "      <td>Big Data</td>\n",
       "      <td>W20</td>\n",
       "      <td>5.00</td>\n",
       "      <td>8</td>\n",
       "    </tr>\n",
       "    <tr>\n",
       "      <td>11</td>\n",
       "      <td>261-5110-00 S</td>\n",
       "      <td>Optimization for Data Science</td>\n",
       "      <td>S19</td>\n",
       "      <td>5.25</td>\n",
       "      <td>8</td>\n",
       "    </tr>\n",
       "    <tr>\n",
       "      <td>13</td>\n",
       "      <td>401-3627-00 S</td>\n",
       "      <td>High-Dimensional Statistics</td>\n",
       "      <td>S20</td>\n",
       "      <td>5.25</td>\n",
       "      <td>4</td>\n",
       "    </tr>\n",
       "    <tr>\n",
       "      <td>14</td>\n",
       "      <td>MOB-003</td>\n",
       "      <td>Numerical Optimization / University of Copenhagen</td>\n",
       "      <td>S18</td>\n",
       "      <td>5.50</td>\n",
       "      <td>7</td>\n",
       "    </tr>\n",
       "    <tr>\n",
       "      <td>15</td>\n",
       "      <td>401-3601-00 S</td>\n",
       "      <td>Probability Theory</td>\n",
       "      <td>S18</td>\n",
       "      <td>5.50</td>\n",
       "      <td>10</td>\n",
       "    </tr>\n",
       "    <tr>\n",
       "      <td>16</td>\n",
       "      <td>263-2400-00 S</td>\n",
       "      <td>Reliable and Interpretable Artificial Intellig...</td>\n",
       "      <td>W20</td>\n",
       "      <td>5.00</td>\n",
       "      <td>5</td>\n",
       "    </tr>\n",
       "    <tr>\n",
       "      <td>18</td>\n",
       "      <td>401-4788-16 S</td>\n",
       "      <td>Mathematics of (Super-Resolution) Biomedical I...</td>\n",
       "      <td>S19</td>\n",
       "      <td>6.00</td>\n",
       "      <td>8</td>\n",
       "    </tr>\n",
       "    <tr>\n",
       "      <td>19</td>\n",
       "      <td>227-0391-00 S</td>\n",
       "      <td>Medical Image Analysis</td>\n",
       "      <td>S20</td>\n",
       "      <td>6.00</td>\n",
       "      <td>3</td>\n",
       "    </tr>\n",
       "    <tr>\n",
       "      <td>25</td>\n",
       "      <td>851-0740-00 S</td>\n",
       "      <td>Big Data, Law, and Policy</td>\n",
       "      <td>S20</td>\n",
       "      <td>5.00</td>\n",
       "      <td>3</td>\n",
       "    </tr>\n",
       "  </tbody>\n",
       "</table>\n",
       "</div>"
      ],
      "text/plain": [
       "               id                                             course sess  \\\n",
       "5   227-0434-10 S                         Mathematics of Information  S19   \n",
       "6   227-0423-00 S                              Neural Network Theory  S20   \n",
       "8   401-3621-00 S            Fundamentals of Mathematical Statistics  W19   \n",
       "10  263-3010-00 S                                           Big Data  W20   \n",
       "11  261-5110-00 S                      Optimization for Data Science  S19   \n",
       "13  401-3627-00 S                        High-Dimensional Statistics  S20   \n",
       "14        MOB-003  Numerical Optimization / University of Copenhagen  S18   \n",
       "15  401-3601-00 S                                 Probability Theory  S18   \n",
       "16  263-2400-00 S  Reliable and Interpretable Artificial Intellig...  W20   \n",
       "18  401-4788-16 S  Mathematics of (Super-Resolution) Biomedical I...  S19   \n",
       "19  227-0391-00 S                             Medical Image Analysis  S20   \n",
       "25  851-0740-00 S                          Big Data, Law, and Policy  S20   \n",
       "\n",
       "    grade  weight  \n",
       "5    5.50       8  \n",
       "6    6.00       4  \n",
       "8    5.75      10  \n",
       "10   5.00       8  \n",
       "11   5.25       8  \n",
       "13   5.25       4  \n",
       "14   5.50       7  \n",
       "15   5.50      10  \n",
       "16   5.00       5  \n",
       "18   6.00       8  \n",
       "19   6.00       3  \n",
       "25   5.00       3  "
      ]
     },
     "execution_count": 6,
     "metadata": {},
     "output_type": "execute_result"
    }
   ],
   "source": [
    "grades"
   ]
  },
  {
   "cell_type": "markdown",
   "metadata": {},
   "source": [
    "### Calculate and print results"
   ]
  },
  {
   "cell_type": "code",
   "execution_count": 7,
   "metadata": {},
   "outputs": [
    {
     "name": "stdout",
     "output_type": "stream",
     "text": [
      "obtained credits: 78\n",
      "average grade: 5.487\n",
      "median grade: 5.5\n",
      "lowest grade: 5.0\n",
      "highest grade: 6.0\n"
     ]
    }
   ],
   "source": [
    "#calculate average and other statistics:\n",
    "\n",
    "dot = grades['grade'].dot(grades['weight'])\n",
    "sum = grades['weight'].sum()\n",
    "avg = dot/sum\n",
    "median = grades.grade.median()\n",
    "min = grades.grade.min()\n",
    "max = grades.grade.max()\n",
    "\n",
    "print('obtained credits: {}'.format(sum))\n",
    "print('average grade: {:.3f}'.format(avg))\n",
    "print('median grade: {}'.format(median))\n",
    "print('lowest grade: {}'.format(min))\n",
    "print('highest grade: {}'.format(max))"
   ]
  },
  {
   "cell_type": "markdown",
   "metadata": {},
   "source": [
    "### Histogram of obtained grades"
   ]
  },
  {
   "cell_type": "code",
   "execution_count": 10,
   "metadata": {},
   "outputs": [
    {
     "data": {
      "text/plain": [
       "<matplotlib.axes._subplots.AxesSubplot at 0x7fa0f46a5250>"
      ]
     },
     "execution_count": 10,
     "metadata": {},
     "output_type": "execute_result"
    },
    {
     "data": {
      "image/png": "[encoded data removed]",
      "text/plain": [
       "<Figure size 432x288 with 1 Axes>"
      ]
     },
     "metadata": {
      "needs_background": "light"
     },
     "output_type": "display_data"
    }
   ],
   "source": [
    "#create histogram of grades. If plot doesn't show, run cell again!\n",
    "plt = grades.grade.sort_values().value_counts(sort=False).plot(kind='bar', title='Histogram of grades')\n",
    "plt"
   ]
  }
 ],
 "metadata": {
  "kernelspec": {
   "display_name": "Python 3",
   "language": "python",
   "name": "python3"
  },
  "language_info": {
   "codemirror_mode": {
    "name": "ipython",
    "version": 3
   },
   "file_extension": ".py",
   "mimetype": "text/x-python",
   "name": "python",
   "nbconvert_exporter": "python",
   "pygments_lexer": "ipython3",
   "version": "3.7.4"
  }
 },
 "nbformat": 4,
 "nbformat_minor": 4
}
