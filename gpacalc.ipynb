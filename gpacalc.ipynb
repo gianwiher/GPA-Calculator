{
 "cells": [
  {
   "cell_type": "markdown",
   "metadata": {},
   "source": [
    "## Script to calculate average grade\n",
    "\n",
    "### Enter the path to your `.html` file here"
   ]
  },
  {
   "cell_type": "code",
   "execution_count": null,
   "metadata": {},
   "outputs": [],
   "source": [
    "path = './grades_ger.html'"
   ]
  },
  {
   "cell_type": "markdown",
   "metadata": {},
   "source": [
    "### Run the cells below\n"
   ]
  },
  {
   "cell_type": "code",
   "execution_count": null,
   "metadata": {},
   "outputs": [],
   "source": [
    "import pandas as pd\n",
    "import matplotlib as plt\n",
    "with open(path, 'r') as file:\n",
    "    table = pd.read_html(file)\n",
    "grades = table[3] #if you get an error here change the 3 to a 4 "
   ]
  },
  {
   "cell_type": "code",
   "execution_count": null,
   "metadata": {},
   "outputs": [],
   "source": [
    "grades.columns = grades.columns.droplevel(1)\n",
    "grades.columns = ['id', 'course', 'sess', 'grade', 'category', 'weight', 'soll', 'miss']\n",
    "\n",
    "mask = pd.isna(grades['category']) #only select rows containing course data\n",
    "grades.drop(columns=['soll', 'miss', 'category'], inplace=True)\n",
    "grades = grades[mask]\n",
    "\n",
    "mask2 = (grades['grade'] == 'pass') | (grades['grade'] == 'Best')\n",
    "grades = grades[~mask2]\n",
    "\n",
    "#cange datatype\n",
    "grades['grade'] = grades['grade'].astype('float')\n",
    "grades['sess'] = grades['sess'].astype('category')"
   ]
  },
  {
   "cell_type": "markdown",
   "metadata": {},
   "source": [
    "### Here you can add another potential grade \n",
    "Adjust `grade` and `weight` accordingly"
   ]
  },
  {
   "cell_type": "code",
   "execution_count": null,
   "metadata": {},
   "outputs": [],
   "source": [
    "#add potential grade/thesis whatever\n",
    "grade = 5.5\n",
    "weight = 0\n",
    "if weight is not 0:\n",
    "    new_grade = pd.Series({'id': 'placeholder', 'course': 'master_thesis', 'sess': 'egal', 'grade': grade, 'weight': weight})\n",
    "    grades = grades.append(new_grade, ignore_index=True)"
   ]
  },
  {
   "cell_type": "code",
   "execution_count": null,
   "metadata": {},
   "outputs": [],
   "source": [
    "grades"
   ]
  },
  {
   "cell_type": "code",
   "execution_count": null,
   "metadata": {},
   "outputs": [],
   "source": [
    "#calculate average and other statistics:\n",
    "\n",
    "dot = grades['grade'].dot(grades['weight'])\n",
    "sum = grades['weight'].sum()\n",
    "avg = dot/sum\n",
    "median = grades.grade.median()\n",
    "min = grades.grade.min()\n",
    "max = grades.grade.max()\n",
    "\n",
    "print('obtained credits: {}'.format(sum))\n",
    "print('average grade: {:.3f}'.format(avg))\n",
    "print('median grade: {}'.format(median))\n",
    "print('lowest grade: {}'.format(min))\n",
    "print('highest grade: {}'.format(max))\n",
    "\n",
    "#create histogram of grades\n",
    "grades.grade.sort_values().value_counts(sort=False).plot(kind='bar')"
   ]
  }
 ],
 "metadata": {
  "kernelspec": {
   "display_name": "Python 3",
   "language": "python",
   "name": "python3"
  },
  "language_info": {
   "codemirror_mode": {
    "name": "ipython",
    "version": 3
   },
   "file_extension": ".py",
   "mimetype": "text/x-python",
   "name": "python",
   "nbconvert_exporter": "python",
   "pygments_lexer": "ipython3",
   "version": "3.7.4"
  }
 },
 "nbformat": 4,
 "nbformat_minor": 4
}
